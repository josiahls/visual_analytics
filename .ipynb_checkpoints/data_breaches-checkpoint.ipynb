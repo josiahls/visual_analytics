{
 "cells": [
  {
   "cell_type": "code",
   "execution_count": 1,
   "metadata": {},
   "outputs": [],
   "source": [
    "%load_ext autoreload\n",
    "%autoreload 2"
   ]
  },
  {
   "cell_type": "markdown",
   "metadata": {},
   "source": [
    "# Data Breaches\n",
    "\n",
    "> An analysis of known data breaches and their severity. Dataset retreived from https://www.informationisbeautiful.net/visualizations/worlds-biggest-data-breaches-hacks/"
   ]
  },
  {
   "cell_type": "code",
   "execution_count": 4,
   "metadata": {},
   "outputs": [],
   "source": [
    "import matplotlib.pyplot as plt\n",
    "from wordcloud import WordCloud, STOPWORDS\n",
    "import pandas as pd\n",
    "import os\n",
    "%matplotlib inline"
   ]
  },
  {
   "cell_type": "code",
   "execution_count": 5,
   "metadata": {},
   "outputs": [],
   "source": [
    "df=pd.read_csv('data/Balloon Race_ Data Breaches - LATEST - breaches.tsv',sep='\\t')"
   ]
  },
  {
   "cell_type": "code",
   "execution_count": 6,
   "metadata": {},
   "outputs": [
    {
     "data": {
      "text/plain": [
       "Index(['Entity', 'alternative name', 'records lost', 'YEAR', 'story', 'SECTOR',\n",
       "       'METHOD', 'interesting story', 'DATA SENSITIVITY', 'DISPLAYED RECORDS',\n",
       "       'Unnamed: 10', 'source name', '1st source link', '2nd source link'],\n",
       "      dtype='object')"
      ]
     },
     "execution_count": 6,
     "metadata": {},
     "output_type": "execute_result"
    }
   ],
   "source": [
    "df.columns"
   ]
  },
  {
   "cell_type": "code",
   "execution_count": 13,
   "metadata": {},
   "outputs": [
    {
     "data": {
      "text/plain": [
       "array(['poor security hacked oops! lost device  inside job',\n",
       "       'poor security', 'hacked', 'lost device', 'inside job', 'oops!',\n",
       "       nan, 'lost device '], dtype=object)"
      ]
     },
     "execution_count": 13,
     "metadata": {},
     "output_type": "execute_result"
    }
   ],
   "source": [
    "df['METHOD'].unique()"
   ]
  },
  {
   "cell_type": "code",
   "execution_count": 7,
   "metadata": {},
   "outputs": [
    {
     "data": {
      "text/html": [
       "<div>\n",
       "<style scoped>\n",
       "    .dataframe tbody tr th:only-of-type {\n",
       "        vertical-align: middle;\n",
       "    }\n",
       "\n",
       "    .dataframe tbody tr th {\n",
       "        vertical-align: top;\n",
       "    }\n",
       "\n",
       "    .dataframe thead th {\n",
       "        text-align: right;\n",
       "    }\n",
       "</style>\n",
       "<table border=\"1\" class=\"dataframe\">\n",
       "  <thead>\n",
       "    <tr style=\"text-align: right;\">\n",
       "      <th></th>\n",
       "      <th>Entity</th>\n",
       "      <th>alternative name</th>\n",
       "      <th>records lost</th>\n",
       "      <th>YEAR</th>\n",
       "      <th>story</th>\n",
       "      <th>SECTOR</th>\n",
       "      <th>METHOD</th>\n",
       "      <th>interesting story</th>\n",
       "      <th>DATA SENSITIVITY</th>\n",
       "      <th>DISPLAYED RECORDS</th>\n",
       "      <th>Unnamed: 10</th>\n",
       "      <th>source name</th>\n",
       "      <th>1st source link</th>\n",
       "      <th>2nd source link</th>\n",
       "    </tr>\n",
       "  </thead>\n",
       "  <tbody>\n",
       "    <tr>\n",
       "      <th>0</th>\n",
       "      <td>NaN</td>\n",
       "      <td>NaN</td>\n",
       "      <td>(use 3m, 4m, 5m or 10m to approximate unknown ...</td>\n",
       "      <td>year story broke</td>\n",
       "      <td>NaN</td>\n",
       "      <td>web healthcare app retail gaming transport fin...</td>\n",
       "      <td>poor security hacked oops! lost device  inside...</td>\n",
       "      <td>NaN</td>\n",
       "      <td>1. Just email address/Online information  2 SS...</td>\n",
       "      <td>=IF(C3&gt;100000000,C3,\")</td>\n",
       "      <td>NaN</td>\n",
       "      <td>NaN</td>\n",
       "      <td>NaN</td>\n",
       "      <td>NaN</td>\n",
       "    </tr>\n",
       "    <tr>\n",
       "      <th>1</th>\n",
       "      <td>AIS</td>\n",
       "      <td>Thailand's largest cell network</td>\n",
       "      <td>8,000,000,000</td>\n",
       "      <td>2020</td>\n",
       "      <td>May 2025. Data relating to internet use was av...</td>\n",
       "      <td>telecoms</td>\n",
       "      <td>poor security</td>\n",
       "      <td>NaN</td>\n",
       "      <td>1</td>\n",
       "      <td>8,000,000,000</td>\n",
       "      <td>NaN</td>\n",
       "      <td>Tech Crunch</td>\n",
       "      <td>https://techcrunch.com/2020/05/24/thai-billion...</td>\n",
       "      <td>NaN</td>\n",
       "    </tr>\n",
       "    <tr>\n",
       "      <th>2</th>\n",
       "      <td>Nintendo</td>\n",
       "      <td>NaN</td>\n",
       "      <td>300,000</td>\n",
       "      <td>2020</td>\n",
       "      <td>Apr 2020. Unauthorised access to thousands of ...</td>\n",
       "      <td>gaming</td>\n",
       "      <td>hacked</td>\n",
       "      <td>NaN</td>\n",
       "      <td>3</td>\n",
       "      <td>300,000</td>\n",
       "      <td>NaN</td>\n",
       "      <td>Tech Crunch</td>\n",
       "      <td>https://techcrunch.com/2020/06/09/nintendo-acc...</td>\n",
       "      <td>NaN</td>\n",
       "    </tr>\n",
       "    <tr>\n",
       "      <th>3</th>\n",
       "      <td>Pakistani mobile operators</td>\n",
       "      <td>NaN</td>\n",
       "      <td>115,000,000</td>\n",
       "      <td>2020</td>\n",
       "      <td>Apr 2020. Personal details stolen from Jazz an...</td>\n",
       "      <td>telecoms</td>\n",
       "      <td>hacked</td>\n",
       "      <td>NaN</td>\n",
       "      <td>2</td>\n",
       "      <td>115,000,000</td>\n",
       "      <td>NaN</td>\n",
       "      <td>ZDNet</td>\n",
       "      <td>https://www.zdnet.com/article/details-of-44m-p...</td>\n",
       "      <td>NaN</td>\n",
       "    </tr>\n",
       "    <tr>\n",
       "      <th>4</th>\n",
       "      <td>US Marshals Service</td>\n",
       "      <td>NaN</td>\n",
       "      <td>387,000</td>\n",
       "      <td>2020</td>\n",
       "      <td>May 2020. Prisoners had sensitive personal dat...</td>\n",
       "      <td>government</td>\n",
       "      <td>hacked</td>\n",
       "      <td>NaN</td>\n",
       "      <td>2</td>\n",
       "      <td>287,000</td>\n",
       "      <td>NaN</td>\n",
       "      <td>NextGov</td>\n",
       "      <td>https://www.nextgov.com/cybersecurity/2020/05/...</td>\n",
       "      <td>NaN</td>\n",
       "    </tr>\n",
       "  </tbody>\n",
       "</table>\n",
       "</div>"
      ],
      "text/plain": [
       "                       Entity                 alternative name  \\\n",
       "0                         NaN                              NaN   \n",
       "1                         AIS  Thailand's largest cell network   \n",
       "2                    Nintendo                              NaN   \n",
       "3  Pakistani mobile operators                              NaN   \n",
       "4         US Marshals Service                              NaN   \n",
       "\n",
       "                                        records lost              YEAR  \\\n",
       "0  (use 3m, 4m, 5m or 10m to approximate unknown ...  year story broke   \n",
       "1                                      8,000,000,000              2020   \n",
       "2                                            300,000              2020   \n",
       "3                                        115,000,000              2020   \n",
       "4                                            387,000              2020   \n",
       "\n",
       "                                               story  \\\n",
       "0                                                NaN   \n",
       "1  May 2025. Data relating to internet use was av...   \n",
       "2  Apr 2020. Unauthorised access to thousands of ...   \n",
       "3  Apr 2020. Personal details stolen from Jazz an...   \n",
       "4  May 2020. Prisoners had sensitive personal dat...   \n",
       "\n",
       "                                              SECTOR  \\\n",
       "0  web healthcare app retail gaming transport fin...   \n",
       "1                                           telecoms   \n",
       "2                                             gaming   \n",
       "3                                           telecoms   \n",
       "4                                         government   \n",
       "\n",
       "                                              METHOD interesting story  \\\n",
       "0  poor security hacked oops! lost device  inside...               NaN   \n",
       "1                                      poor security               NaN   \n",
       "2                                             hacked               NaN   \n",
       "3                                             hacked               NaN   \n",
       "4                                             hacked               NaN   \n",
       "\n",
       "                                    DATA SENSITIVITY       DISPLAYED RECORDS  \\\n",
       "0  1. Just email address/Online information  2 SS...  =IF(C3>100000000,C3,\")   \n",
       "1                                                  1           8,000,000,000   \n",
       "2                                                  3                 300,000   \n",
       "3                                                  2             115,000,000   \n",
       "4                                                  2                 287,000   \n",
       "\n",
       "   Unnamed: 10  source name  \\\n",
       "0          NaN          NaN   \n",
       "1          NaN  Tech Crunch   \n",
       "2          NaN  Tech Crunch   \n",
       "3          NaN        ZDNet   \n",
       "4          NaN      NextGov   \n",
       "\n",
       "                                     1st source link 2nd source link  \n",
       "0                                                NaN             NaN  \n",
       "1  https://techcrunch.com/2020/05/24/thai-billion...             NaN  \n",
       "2  https://techcrunch.com/2020/06/09/nintendo-acc...             NaN  \n",
       "3  https://www.zdnet.com/article/details-of-44m-p...             NaN  \n",
       "4  https://www.nextgov.com/cybersecurity/2020/05/...             NaN  "
      ]
     },
     "execution_count": 7,
     "metadata": {},
     "output_type": "execute_result"
    }
   ],
   "source": [
    "df.head()"
   ]
  },
  {
   "cell_type": "code",
   "execution_count": 9,
   "metadata": {},
   "outputs": [],
   "source": [
    "# df.sort_values(by='Total Records',ascending=False).head(10)"
   ]
  },
  {
   "cell_type": "code",
   "execution_count": 125,
   "metadata": {},
   "outputs": [
    {
     "data": {
      "text/plain": [
       "{'2004': 1,\n",
       " '2005': 3,\n",
       " '2006': 5,\n",
       " '2007': 10,\n",
       " '2008': 21,\n",
       " '2009': 10,\n",
       " '2010': 15,\n",
       " '2011': 37,\n",
       " '2012': 23,\n",
       " '2013': 36,\n",
       " '2014': 19,\n",
       " '2015': 25,\n",
       " '2016': 32,\n",
       " '2017': 25,\n",
       " '2018': 45,\n",
       " '2019': 46,\n",
       " '2020': 16}"
      ]
     },
     "execution_count": 125,
     "metadata": {},
     "output_type": "execute_result"
    }
   ],
   "source": [
    "breach_by_year={x[0]:len(x[1]) for x in df.groupby(by='YEAR') if x[0]!='year story broke'};breach_by_year"
   ]
  },
  {
   "cell_type": "code",
   "execution_count": 126,
   "metadata": {},
   "outputs": [
    {
     "data": {
      "text/plain": [
       "2"
      ]
     },
     "execution_count": 126,
     "metadata": {},
     "output_type": "execute_result"
    }
   ],
   "source": [
    "list(df.columns).index('records lost')"
   ]
  },
  {
   "cell_type": "code",
   "execution_count": 128,
   "metadata": {},
   "outputs": [
    {
     "data": {
      "text/plain": [
       "{'2004': 92000000,\n",
       " '2005': 44100000,\n",
       " '2006': 50825000,\n",
       " '2007': 150597405,\n",
       " '2008': 88455500,\n",
       " '2009': 254152778,\n",
       " '2010': 10549285,\n",
       " '2011': 200841734,\n",
       " '2012': 233598177,\n",
       " '2013': 3717858579,\n",
       " '2014': 338674396,\n",
       " '2015': 483847000,\n",
       " '2016': 1732653869,\n",
       " '2017': 2455191309,\n",
       " '2018': 12147254578,\n",
       " '2019': 5929815298,\n",
       " '2020': 8433037000}"
      ]
     },
     "execution_count": 128,
     "metadata": {},
     "output_type": "execute_result"
    }
   ],
   "source": [
    "def handle_str(x):\n",
    "    try:\n",
    "        return int(x)\n",
    "    except ValueError:pass\n",
    "    try:\n",
    "        return int(str(x).replace(',',''))\n",
    "    except ValueError:pass\n",
    "    if str(x).strip()=='nan':return 0\n",
    "    print(x)\n",
    "    return max([int(s.replace('m','')) for s in x.split() if s.replace('m','').isdigit()])\n",
    "    \n",
    "    \n",
    "\n",
    "n_records_by_year={x[0]:sum([handle_str(o) for o in x[1]['records lost']]) for x in df.groupby(by='YEAR') if x[0]!='year story broke'};n_records_by_year"
   ]
  },
  {
   "cell_type": "code",
   "execution_count": 129,
   "metadata": {},
   "outputs": [
    {
     "data": {
      "text/plain": [
       "['2004',\n",
       " '2005',\n",
       " '2006',\n",
       " '2007',\n",
       " '2008',\n",
       " '2009',\n",
       " '2010',\n",
       " '2011',\n",
       " '2012',\n",
       " '2013',\n",
       " '2014',\n",
       " '2015',\n",
       " '2016',\n",
       " '2017',\n",
       " '2018',\n",
       " '2019',\n",
       " '2020']"
      ]
     },
     "execution_count": 129,
     "metadata": {},
     "output_type": "execute_result"
    }
   ],
   "source": [
    "[k for k in n_records_by_year]"
   ]
  },
  {
   "cell_type": "code",
   "execution_count": 130,
   "metadata": {},
   "outputs": [
    {
     "data": {
      "text/plain": [
       "[1, 3, 5, 10, 21, 10, 15, 37, 23, 36, 19, 25, 32, 25, 45, 46, 16]"
      ]
     },
     "execution_count": 130,
     "metadata": {},
     "output_type": "execute_result"
    }
   ],
   "source": [
    "[n for i,n in enumerate(breach_by_year.values())]"
   ]
  },
  {
   "cell_type": "code",
   "execution_count": 133,
   "metadata": {},
   "outputs": [
    {
     "data": {
      "text/plain": [
       "<Figure size 576x1152 with 0 Axes>"
      ]
     },
     "metadata": {},
     "output_type": "display_data"
    },
    {
     "data": {
      "image/png": "[encoded data removed]",
      "text/plain": [
       "<Figure size 576x288 with 2 Axes>"
      ]
     },
     "metadata": {
      "needs_background": "light"
     },
     "output_type": "display_data"
    }
   ],
   "source": [
    "plt.figure(figsize = (8, 16), facecolor = None) \n",
    "fig,ax=plt.subplots(nrows=2,ncols=1)\n",
    "ax[0].plot([n for i,n in enumerate(breach_by_year.values())])\n",
    "# ax[0].set_xticks(range(len(breach_by_year)))\n",
    "# ax[0].set_xticklabels([k for k in breach_by_year])\n",
    "ax[0].xaxis.set_visible(False)\n",
    "# plt.legend(['Number of companies breached'])\n",
    "ax[0].set_ylabel('N breaches',fontdict={'size':'14'})\n",
    "ax[0].set_xlabel('Years',fontdict={'size':'22'})\n",
    "\n",
    "\n",
    "# ax.plot([n for i,n in enumerate(breach_by_year.values())])\n",
    "# ax.set_xticks(range(len(breach_by_year)))\n",
    "# ax.set_xticklabels([k for k in breach_by_year],rotation=70)\n",
    "# # plt.legend(['Number of companies breached'])\n",
    "# ax.set_ylabel('Number of companies breached',fontdict={'size':'14'})\n",
    "# ax.set_xlabel('Years',fontdict={'size':'22'})\n",
    "ax[1].plot([n for i,n in enumerate(n_records_by_year.values())])\n",
    "ax[1].set_xticks(range(len(breach_by_year)))\n",
    "ax[1].set_xticklabels([k for k in n_records_by_year],rotation=70)\n",
    "# plt.legend(['Number of companies breached'])\n",
    "ax[1].set_ylabel('Total Records Lost\\n scaled by 1e10',fontdict={'size':'14'})\n",
    "ax[1].set_xlabel('Years',fontdict={'size':'22'})\n",
    "\n",
    "plt.gcf().set_size_inches(*(8,4))\n",
    "fig.savefig('temp.jpg', bbox_inches='tight')\n",
    "fig.show()"
   ]
  },
  {
   "cell_type": "markdown",
   "metadata": {},
   "source": [
    "# Internal vs External Events"
   ]
  },
  {
   "cell_type": "code",
   "execution_count": 26,
   "metadata": {},
   "outputs": [
    {
     "data": {
      "text/plain": [
       "{'hacked': 229,\n",
       " 'inside job': 22,\n",
       " 'lost device': 47,\n",
       " 'oops!': 19,\n",
       " 'poor security': 50}"
      ]
     },
     "execution_count": 26,
     "metadata": {},
     "output_type": "execute_result"
    }
   ],
   "source": [
    "compromise_reason={o[0].strip():len(o[1]) for o in df[1:].groupby(by='METHOD')};compromise_reason"
   ]
  },
  {
   "cell_type": "code",
   "execution_count": 81,
   "metadata": {},
   "outputs": [
    {
     "data": {
      "text/plain": [
       "array([229.,  47.,  50.,  22.,  19.])"
      ]
     },
     "execution_count": 81,
     "metadata": {},
     "output_type": "execute_result"
    }
   ],
   "source": [
    "np.concatenate((vals[0],vals[1]),axis=0)"
   ]
  },
  {
   "cell_type": "code",
   "execution_count": 100,
   "metadata": {},
   "outputs": [
    {
     "data": {
      "text/plain": [
       "array([0.6239782 , 0.1280654 , 0.13623978, 0.0599455 , 0.05177112])"
      ]
     },
     "execution_count": 100,
     "metadata": {},
     "output_type": "execute_result"
    }
   ],
   "source": [
    "np.concatenate((vals[0],vals[1]))/np.concatenate((vals[0],vals[1])).sum()"
   ]
  },
  {
   "cell_type": "code",
   "execution_count": null,
   "metadata": {},
   "outputs": [],
   "source": [
    "np.arange"
   ]
  },
  {
   "cell_type": "code",
   "execution_count": 113,
   "metadata": {},
   "outputs": [
    {
     "data": {
      "text/plain": [
       "array([1., 0.])"
      ]
     },
     "execution_count": 113,
     "metadata": {},
     "output_type": "execute_result"
    }
   ],
   "source": [
    "minmax_scale([sum(o) for o in vals])"
   ]
  },
  {
   "cell_type": "code",
   "execution_count": 155,
   "metadata": {},
   "outputs": [
    {
     "data": {
      "text/plain": [
       "array([1., 1.])"
      ]
     },
     "execution_count": 155,
     "metadata": {},
     "output_type": "execute_result"
    }
   ],
   "source": [
    "np.array([sum(o) for o in vals])/np.array([sum(o) for o in vals])"
   ]
  },
  {
   "cell_type": "code",
   "execution_count": 158,
   "metadata": {},
   "outputs": [
    {
     "data": {
      "text/plain": [
       "<Figure size 576x576 with 0 Axes>"
      ]
     },
     "metadata": {},
     "output_type": "display_data"
    },
    {
     "data": {
      "image/png": "[encoded data removed]",
      "text/plain": [
       "<Figure size 576x576 with 1 Axes>"
      ]
     },
     "metadata": {},
     "output_type": "display_data"
    }
   ],
   "source": [
    "import numpy as np\n",
    "from sklearn.preprocessing import minmax_scale\n",
    "\n",
    "plt.figure(figsize = (8, 8), facecolor = None) \n",
    "fig, ax = plt.subplots()\n",
    "\n",
    "size = 0.3\n",
    "\n",
    "internal_reason=['inside job','oops!']\n",
    "vals =[[float(v) for k,v in compromise_reason.items() if k not in internal_reason],\n",
    "       [float(v) for k,v in compromise_reason.items() if k in internal_reason]]\n",
    "\n",
    "cmap = plt.get_cmap(\"tab10\")\n",
    "outer_colors = cmap([1,2])\n",
    "inner_colors = cmap(np.arange(5)+3)\n",
    "\n",
    "wedges, texts=ax.pie(np.array([sum(o) for o in vals])/np.array([sum(o) for o in vals]).flatten().sum(), radius=1, colors=outer_colors,\n",
    "                     wedgeprops=dict(width=size, edgecolor='w'))\n",
    "\n",
    "wedges2, texts=ax.pie(np.concatenate((vals[0],vals[1])), radius=1-size, colors=inner_colors,\n",
    "       wedgeprops=dict(width=size, edgecolor='w'))\n",
    "\n",
    "ax.set(aspect=\"equal\", title='Internal vs External Compromises')\n",
    "\n",
    "ax.legend(wedges+wedges2, list(['External','Internal'])+[f'{k}: {v} breaches' for k,v in compromise_reason.items()],\n",
    "          title=\"Breach Reasons\",\n",
    "          loc=\"center left\",\n",
    "          bbox_to_anchor=(1, 0, 0.5, 1))\n",
    "\n",
    "plt.gcf().set_size_inches(*(8,8))\n",
    "fig.savefig('pie.png', bbox_inches='tight')\n",
    "plt.show()"
   ]
  },
  {
   "cell_type": "markdown",
   "metadata": {},
   "source": [
    "#### "
   ]
  }
 ],
 "metadata": {
  "kernelspec": {
   "display_name": "Python 3",
   "language": "python",
   "name": "python3"
  },
  "language_info": {
   "codemirror_mode": {
    "name": "ipython",
    "version": 3
   },
   "file_extension": ".py",
   "mimetype": "text/x-python",
   "name": "python",
   "nbconvert_exporter": "python",
   "pygments_lexer": "ipython3",
   "version": "3.7.6"
  }
 },
 "nbformat": 4,
 "nbformat_minor": 4
}
