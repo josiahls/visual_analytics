{
 "cells": [
  {
   "cell_type": "code",
   "execution_count": 1,
   "metadata": {},
   "outputs": [],
   "source": [
    "%load_ext autoreload\n",
    "%autoreload 2"
   ]
  },
  {
   "cell_type": "markdown",
   "metadata": {},
   "source": [
    "# Data Breaches\n",
    "\n",
    "> An analysis of known data breaches and their severity. Dataset retreived from https://www.informationisbeautiful.net/visualizations/worlds-biggest-data-breaches-hacks/"
   ]
  },
  {
   "cell_type": "code",
   "execution_count": 2,
   "metadata": {},
   "outputs": [],
   "source": [
    "import matplotlib.pyplot as plt\n",
    "from wordcloud import WordCloud, STOPWORDS\n",
    "import pandas as pd\n",
    "import os\n",
    "%matplotlib inline"
   ]
  },
  {
   "cell_type": "code",
   "execution_count": 106,
   "metadata": {},
   "outputs": [],
   "source": [
    "df=pd.read_csv('data/Balloon Race_ Data Breaches - LATEST - breaches.tsv',sep='\\t')"
   ]
  },
  {
   "cell_type": "code",
   "execution_count": 107,
   "metadata": {},
   "outputs": [
    {
     "data": {
      "text/plain": [
       "Index(['Entity', 'alternative name', 'records lost', 'YEAR', 'story', 'SECTOR',\n",
       "       'METHOD', 'interesting story', 'DATA SENSITIVITY', 'DISPLAYED RECORDS',\n",
       "       'Unnamed: 10', 'source name', '1st source link', '2nd source link'],\n",
       "      dtype='object')"
      ]
     },
     "execution_count": 107,
     "metadata": {},
     "output_type": "execute_result"
    }
   ],
   "source": [
    "df.columns"
   ]
  },
  {
   "cell_type": "code",
   "execution_count": 9,
   "metadata": {},
   "outputs": [],
   "source": [
    "# df.sort_values(by='Total Records',ascending=False).head(10)"
   ]
  },
  {
   "cell_type": "code",
   "execution_count": 125,
   "metadata": {},
   "outputs": [
    {
     "data": {
      "text/plain": [
       "{'2004': 1,\n",
       " '2005': 3,\n",
       " '2006': 5,\n",
       " '2007': 10,\n",
       " '2008': 21,\n",
       " '2009': 10,\n",
       " '2010': 15,\n",
       " '2011': 37,\n",
       " '2012': 23,\n",
       " '2013': 36,\n",
       " '2014': 19,\n",
       " '2015': 25,\n",
       " '2016': 32,\n",
       " '2017': 25,\n",
       " '2018': 45,\n",
       " '2019': 46,\n",
       " '2020': 16}"
      ]
     },
     "execution_count": 125,
     "metadata": {},
     "output_type": "execute_result"
    }
   ],
   "source": [
    "breach_by_year={x[0]:len(x[1]) for x in df.groupby(by='YEAR') if x[0]!='year story broke'};breach_by_year"
   ]
  },
  {
   "cell_type": "code",
   "execution_count": 126,
   "metadata": {},
   "outputs": [
    {
     "data": {
      "text/plain": [
       "2"
      ]
     },
     "execution_count": 126,
     "metadata": {},
     "output_type": "execute_result"
    }
   ],
   "source": [
    "list(df.columns).index('records lost')"
   ]
  },
  {
   "cell_type": "code",
   "execution_count": 128,
   "metadata": {},
   "outputs": [
    {
     "data": {
      "text/plain": [
       "{'2004': 92000000,\n",
       " '2005': 44100000,\n",
       " '2006': 50825000,\n",
       " '2007': 150597405,\n",
       " '2008': 88455500,\n",
       " '2009': 254152778,\n",
       " '2010': 10549285,\n",
       " '2011': 200841734,\n",
       " '2012': 233598177,\n",
       " '2013': 3717858579,\n",
       " '2014': 338674396,\n",
       " '2015': 483847000,\n",
       " '2016': 1732653869,\n",
       " '2017': 2455191309,\n",
       " '2018': 12147254578,\n",
       " '2019': 5929815298,\n",
       " '2020': 8433037000}"
      ]
     },
     "execution_count": 128,
     "metadata": {},
     "output_type": "execute_result"
    }
   ],
   "source": [
    "def handle_str(x):\n",
    "    try:\n",
    "        return int(x)\n",
    "    except ValueError:pass\n",
    "    try:\n",
    "        return int(str(x).replace(',',''))\n",
    "    except ValueError:pass\n",
    "    if str(x).strip()=='nan':return 0\n",
    "    print(x)\n",
    "    return max([int(s.replace('m','')) for s in x.split() if s.replace('m','').isdigit()])\n",
    "    \n",
    "    \n",
    "\n",
    "n_records_by_year={x[0]:sum([handle_str(o) for o in x[1]['records lost']]) for x in df.groupby(by='YEAR') if x[0]!='year story broke'};n_records_by_year"
   ]
  },
  {
   "cell_type": "code",
   "execution_count": 129,
   "metadata": {},
   "outputs": [
    {
     "data": {
      "text/plain": [
       "['2004',\n",
       " '2005',\n",
       " '2006',\n",
       " '2007',\n",
       " '2008',\n",
       " '2009',\n",
       " '2010',\n",
       " '2011',\n",
       " '2012',\n",
       " '2013',\n",
       " '2014',\n",
       " '2015',\n",
       " '2016',\n",
       " '2017',\n",
       " '2018',\n",
       " '2019',\n",
       " '2020']"
      ]
     },
     "execution_count": 129,
     "metadata": {},
     "output_type": "execute_result"
    }
   ],
   "source": [
    "[k for k in n_records_by_year]"
   ]
  },
  {
   "cell_type": "code",
   "execution_count": 130,
   "metadata": {},
   "outputs": [
    {
     "data": {
      "text/plain": [
       "[1, 3, 5, 10, 21, 10, 15, 37, 23, 36, 19, 25, 32, 25, 45, 46, 16]"
      ]
     },
     "execution_count": 130,
     "metadata": {},
     "output_type": "execute_result"
    }
   ],
   "source": [
    "[n for i,n in enumerate(breach_by_year.values())]"
   ]
  },
  {
   "cell_type": "code",
   "execution_count": 133,
   "metadata": {},
   "outputs": [
    {
     "data": {
      "text/plain": [
       "<Figure size 576x1152 with 0 Axes>"
      ]
     },
     "metadata": {},
     "output_type": "display_data"
    },
    {
     "data": {
      "image/png": "[encoded data removed]",
      "text/plain": [
       "<Figure size 576x288 with 2 Axes>"
      ]
     },
     "metadata": {
      "needs_background": "light"
     },
     "output_type": "display_data"
    }
   ],
   "source": [
    "plt.figure(figsize = (8, 16), facecolor = None) \n",
    "fig,ax=plt.subplots(nrows=2,ncols=1)\n",
    "ax[0].plot([n for i,n in enumerate(breach_by_year.values())])\n",
    "# ax[0].set_xticks(range(len(breach_by_year)))\n",
    "# ax[0].set_xticklabels([k for k in breach_by_year])\n",
    "ax[0].xaxis.set_visible(False)\n",
    "# plt.legend(['Number of companies breached'])\n",
    "ax[0].set_ylabel('N breaches',fontdict={'size':'14'})\n",
    "ax[0].set_xlabel('Years',fontdict={'size':'22'})\n",
    "\n",
    "\n",
    "# ax.plot([n for i,n in enumerate(breach_by_year.values())])\n",
    "# ax.set_xticks(range(len(breach_by_year)))\n",
    "# ax.set_xticklabels([k for k in breach_by_year],rotation=70)\n",
    "# # plt.legend(['Number of companies breached'])\n",
    "# ax.set_ylabel('Number of companies breached',fontdict={'size':'14'})\n",
    "# ax.set_xlabel('Years',fontdict={'size':'22'})\n",
    "ax[1].plot([n for i,n in enumerate(n_records_by_year.values())])\n",
    "ax[1].set_xticks(range(len(breach_by_year)))\n",
    "ax[1].set_xticklabels([k for k in n_records_by_year],rotation=70)\n",
    "# plt.legend(['Number of companies breached'])\n",
    "ax[1].set_ylabel('Total Records Lost\\n scaled by 1e10',fontdict={'size':'14'})\n",
    "ax[1].set_xlabel('Years',fontdict={'size':'22'})\n",
    "\n",
    "plt.gcf().set_size_inches(*(8,4))\n",
    "fig.savefig('temp.jpg', bbox_inches='tight')\n",
    "fig.show()"
   ]
  },
  {
   "cell_type": "code",
   "execution_count": null,
   "metadata": {},
   "outputs": [],
   "source": []
  }
 ],
 "metadata": {
  "kernelspec": {
   "display_name": "Python 3",
   "language": "python",
   "name": "python3"
  },
  "language_info": {
   "codemirror_mode": {
    "name": "ipython",
    "version": 3
   },
   "file_extension": ".py",
   "mimetype": "text/x-python",
   "name": "python",
   "nbconvert_exporter": "python",
   "pygments_lexer": "ipython3",
   "version": "3.7.6"
  }
 },
 "nbformat": 4,
 "nbformat_minor": 4
}
